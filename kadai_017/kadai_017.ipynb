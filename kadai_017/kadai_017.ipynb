{
  "nbformat": 4,
  "nbformat_minor": 0,
  "metadata": {
    "colab": {
      "provenance": []
    },
    "kernelspec": {
      "name": "python3",
      "display_name": "Python 3"
    },
    "language_info": {
      "name": "python"
    }
  },
  "cells": [
    {
      "cell_type": "code",
      "source": [
        "class Human:\n",
        "    def __init__(self, name, age):\n",
        "        self.name = name\n",
        "        self.age = age\n",
        "    def check_adult(self):\n",
        "        if self.age >= 20:\n",
        "            print(\"大人です。\")\n",
        "        else:\n",
        "            print(\"大人ではありません。\")\n",
        "taro = Human(\"太郎\", 21)\n",
        "hanako = Human(\"花子\", 15)\n",
        "taro.check_adult()\n",
        "hanako.check_adult()"
      ],
      "metadata": {
        "colab": {
          "base_uri": "https://localhost:8080/"
        },
        "id": "rsye_WOlA4oX",
        "outputId": "df6f38d9-c037-4dd8-a651-d527cff4ef46"
      },
      "execution_count": 8,
      "outputs": [
        {
          "output_type": "stream",
          "name": "stdout",
          "text": [
            "大人です。\n",
            "大人ではありません。\n"
          ]
        }
      ]
    }
  ]
}