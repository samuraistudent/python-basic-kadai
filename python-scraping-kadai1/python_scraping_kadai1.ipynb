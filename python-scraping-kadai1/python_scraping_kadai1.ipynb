{
  "nbformat": 4,
  "nbformat_minor": 0,
  "metadata": {
    "colab": {
      "provenance": []
    },
    "kernelspec": {
      "name": "python3",
      "display_name": "Python 3"
    },
    "language_info": {
      "name": "python"
    }
  },
  "cells": [
    {
      "cell_type": "code",
      "execution_count": null,
      "metadata": {
        "id": "aI1Dx4P9Jh_b"
      },
      "outputs": [],
      "source": []
    },
    {
      "cell_type": "code",
      "source": [
        "!pip install requests\n",
        "!pip install beautifulsoup4"
      ],
      "metadata": {
        "colab": {
          "base_uri": "https://localhost:8080/"
        },
        "id": "4ycjzgb-JoRX",
        "outputId": "e46238e0-0875-4032-cf8e-9203251c8141"
      },
      "execution_count": 1,
      "outputs": [
        {
          "output_type": "stream",
          "name": "stdout",
          "text": [
            "Requirement already satisfied: requests in /usr/local/lib/python3.11/dist-packages (2.32.3)\n",
            "Requirement already satisfied: charset-normalizer<4,>=2 in /usr/local/lib/python3.11/dist-packages (from requests) (3.4.1)\n",
            "Requirement already satisfied: idna<4,>=2.5 in /usr/local/lib/python3.11/dist-packages (from requests) (3.10)\n",
            "Requirement already satisfied: urllib3<3,>=1.21.1 in /usr/local/lib/python3.11/dist-packages (from requests) (2.4.0)\n",
            "Requirement already satisfied: certifi>=2017.4.17 in /usr/local/lib/python3.11/dist-packages (from requests) (2025.4.26)\n",
            "Requirement already satisfied: beautifulsoup4 in /usr/local/lib/python3.11/dist-packages (4.13.4)\n",
            "Requirement already satisfied: soupsieve>1.2 in /usr/local/lib/python3.11/dist-packages (from beautifulsoup4) (2.7)\n",
            "Requirement already satisfied: typing-extensions>=4.0.0 in /usr/local/lib/python3.11/dist-packages (from beautifulsoup4) (4.13.2)\n"
          ]
        }
      ]
    },
    {
      "cell_type": "code",
      "source": [
        "import requests\n",
        "from bs4 import BeautifulSoup"
      ],
      "metadata": {
        "id": "RiDcIXxRKJvx"
      },
      "execution_count": 3,
      "outputs": []
    },
    {
      "cell_type": "code",
      "source": [
        "url = 'https://news.yahoo.co.jp/articles/b83766387622b121b02c2c1496009266d1165176'"
      ],
      "metadata": {
        "id": "sNvU1kzfKWp7"
      },
      "execution_count": 4,
      "outputs": []
    },
    {
      "cell_type": "code",
      "source": [
        "response = requests.get(url)"
      ],
      "metadata": {
        "id": "RKYYOGo4KoAR"
      },
      "execution_count": 5,
      "outputs": []
    },
    {
      "cell_type": "code",
      "source": [
        "soup = BeautifulSoup(response.text, 'html.parser')"
      ],
      "metadata": {
        "id": "EmORUsIxK0Wu"
      },
      "execution_count": 6,
      "outputs": []
    },
    {
      "cell_type": "code",
      "source": [
        "article_element = soup.select_one('#uamods > div > p')"
      ],
      "metadata": {
        "id": "q8_3GacjK9fN"
      },
      "execution_count": 7,
      "outputs": []
    },
    {
      "cell_type": "code",
      "source": [
        "article_text = article_element.text"
      ],
      "metadata": {
        "id": "VMZCvrdELr0R"
      },
      "execution_count": 8,
      "outputs": []
    },
    {
      "cell_type": "code",
      "source": [
        "print(article_text)"
      ],
      "metadata": {
        "colab": {
          "base_uri": "https://localhost:8080/"
        },
        "id": "ykkz4GMVLz4c",
        "outputId": "d20a525d-0e8a-4569-ac8c-039be3ed0525"
      },
      "execution_count": 12,
      "outputs": [
        {
          "output_type": "stream",
          "name": "stdout",
          "text": [
            "経常黒字、過去最大の30兆円　昨年度、配当金など増加　財務省5/12(月) 8:57配信1050コメント1050件積み上げられた輸送用のコンテナ。奥は東京ゲートブリッジ＝４月１５日、東京都大田区　財務省が12日発表した2024年度の国際収支速報によると、海外とのモノやサービスの取引、投資収益の状況を示す経常収支は30兆3771億円の黒字だった。\n",
            "\n",
            "【ひと目でわかる】経常黒字の推移（24年度）\n",
            "\n",
            "　黒字額は23年度の26兆1664億円を上回り、比較可能な1985年度以降で過去最大を更新。配当金や利子の収支を示す第1次所得収支の黒字拡大が寄与した。\n",
            "\n",
            "　第1次所得収支は、前年度比11．7％増の41兆7114億円の黒字で過去最大だった。企業が海外子会社から受け取る配当金が増加し、円安進行でドルなど外貨建ての収益を押し上げた。\n",
            "\n",
            "　輸出額から輸入額を差し引いた貿易収支は4兆480億円の赤字（前年度は3兆6866億円の赤字）。輸出は半導体製造装置や自動車が伸び、4．1％増の106兆2390億円、輸入はパソコンなどの電算機類が増加し、4．3％増の110兆2870億円だった。\n",
            "\n",
            "　旅行などのサービス収支は、2兆5767億円の赤字（同3兆2307億円の赤字）となった。訪日客の増加により旅行収支は過去最大となる6兆6864億円の黒字。一方、ネット広告などの取引を示すデジタル関連収支は6兆9651億円の赤字で、過去最大の赤字だった。\n",
            "\n",
            "　同時に発表した25年3月の経常収支は前年同月比6．7％増の3兆6781億円の黒字だった。黒字は2カ月連続で、3月として過去最大を更新した。　【関連記事】ホテルが日本人の宿泊拒否？　SNSには称賛の声―中国中国企業、星野リゾートトマム売却路上で女性死亡、15歳少年を任意聴取　背中に刺し傷、殺人事件で捜査―千葉県警コアラ1100匹を射殺　山火事で「安楽死」、手法に批判も―オーストラリア南東部自国製戦闘機初「戦果」に称賛　インド機撃墜か、輸出拡大期待―中国最終更新:5/12(月) 15:15時事通信\n"
          ]
        }
      ]
    }
  ]
}