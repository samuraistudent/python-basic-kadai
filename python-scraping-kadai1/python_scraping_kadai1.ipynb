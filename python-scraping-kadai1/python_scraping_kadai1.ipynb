{
  "nbformat": 4,
  "nbformat_minor": 0,
  "metadata": {
    "colab": {
      "provenance": []
    },
    "kernelspec": {
      "name": "python3",
      "display_name": "Python 3"
    },
    "language_info": {
      "name": "python"
    }
  },
  "cells": [
    {
      "cell_type": "code",
      "execution_count": 16,
      "metadata": {
        "colab": {
          "base_uri": "https://localhost:8080/"
        },
        "id": "Z0cFuXMKWZwd",
        "outputId": "58e4a3b9-243f-40c9-ad14-67123c3f27d2"
      },
      "outputs": [
        {
          "output_type": "stream",
          "name": "stdout",
          "text": [
            "Requirement already satisfied: requests in /usr/local/lib/python3.11/dist-packages (2.32.3)\n",
            "Requirement already satisfied: charset-normalizer<4,>=2 in /usr/local/lib/python3.11/dist-packages (from requests) (3.4.1)\n",
            "Requirement already satisfied: idna<4,>=2.5 in /usr/local/lib/python3.11/dist-packages (from requests) (3.10)\n",
            "Requirement already satisfied: urllib3<3,>=1.21.1 in /usr/local/lib/python3.11/dist-packages (from requests) (2.4.0)\n",
            "Requirement already satisfied: certifi>=2017.4.17 in /usr/local/lib/python3.11/dist-packages (from requests) (2025.4.26)\n",
            "Requirement already satisfied: beautifulsoup4 in /usr/local/lib/python3.11/dist-packages (4.13.4)\n",
            "Requirement already satisfied: soupsieve>1.2 in /usr/local/lib/python3.11/dist-packages (from beautifulsoup4) (2.7)\n",
            "Requirement already satisfied: typing-extensions>=4.0.0 in /usr/local/lib/python3.11/dist-packages (from beautifulsoup4) (4.13.2)\n"
          ]
        }
      ],
      "source": [
        "!pip install requests\n",
        "!pip install beautifulsoup4"
      ]
    },
    {
      "cell_type": "code",
      "source": [
        "import requests\n",
        "from bs4 import BeautifulSoup"
      ],
      "metadata": {
        "id": "RKHSU-2aW4kB"
      },
      "execution_count": 10,
      "outputs": []
    },
    {
      "cell_type": "code",
      "source": [
        "url = 'https://news.yahoo.co.jp/articles/ce4a79bd884e7b8546badd131b637aba3cdced83'"
      ],
      "metadata": {
        "id": "jFsaMTALXAAF"
      },
      "execution_count": 11,
      "outputs": []
    },
    {
      "cell_type": "code",
      "source": [
        "response = requests.get(url)\n",
        "soup = BeautifulSoup(response.text, 'html.parser')\n",
        "main_article = soup.find('div', class_='article_body highLightSearchTarget')\n",
        "print(main_article.text)"
      ],
      "metadata": {
        "colab": {
          "base_uri": "https://localhost:8080/"
        },
        "id": "6vtVfIbzXH7M",
        "outputId": "9f2b6ef1-d857-428c-f385-defa6d57e6e6"
      },
      "execution_count": 22,
      "outputs": [
        {
          "output_type": "stream",
          "name": "stdout",
          "text": [
            "Image by: FASHIONSNAP　ワークマンが、海外に初出店する。2029年に海外初の直営店を台湾に出店すると、小濱英之代表取締役社長が2025年3月期の決算説明会で明らかにした。\n",
            "\n",
            "【画像】1時間に3リットル汗をかいても問題ないというワークマンのジャケット　同社は、2024年2月にオープンした沖縄初の#ワークマン女子店舗「#ワークマン女子イオンモール沖縄ライカム店」で台湾の消費者から自社の機能性衣料が好評であること、台湾と日本で気候が近しいことなどから、海外1号店を台湾に出店することを決定。台湾を足がかりに東南アジアに進出し、海外事業の収益源の1つに育てていきたい考えだ。「低価格という強みだけで台湾で勝ち抜いていくのは難しいだろうと考えているが、戦略を立てて注力していけば成功できる可能性は十分にある」と小濱代表取締役社長。出店先は未定としたが、ロードサイドではなく、ショッピングセンターや百貨店などを中心に精査を重ねる。現地調査を含む情報収集を通して解像度を高めていく方針だという。\n"
          ]
        }
      ]
    }
  ]
}