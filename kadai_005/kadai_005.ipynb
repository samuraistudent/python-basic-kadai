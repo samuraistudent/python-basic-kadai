{
  "nbformat": 4,
  "nbformat_minor": 0,
  "metadata": {
    "colab": {
      "provenance": []
    },
    "kernelspec": {
      "name": "python3",
      "display_name": "Python 3"
    },
    "language_info": {
      "name": "python"
    }
  },
  "cells": [
    {
      "cell_type": "code",
      "source": [
        "top_side = 10\n",
        "bottom_side = 20\n",
        "height = 5\n",
        "area = (top_side + bottom_side) * height / 2\n",
        "print(f\"台形の面積は{area}cm²\")"
      ],
      "metadata": {
        "colab": {
          "base_uri": "https://localhost:8080/"
        },
        "id": "uFaEeOHHxQYV",
        "outputId": "c36221d0-5193-474b-f561-1edeec3dc3ff"
      },
      "execution_count": 7,
      "outputs": [
        {
          "output_type": "stream",
          "name": "stdout",
          "text": [
            "台形の面積は75.0cm²\n"
          ]
        }
      ]
    }
  ]
}